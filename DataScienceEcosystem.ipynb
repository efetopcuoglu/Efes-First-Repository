{
 "cells": [
  {
   "cell_type": "markdown",
   "id": "0ababdd7-b5b4-4317-babd-a7c9e48d3a0e",
   "metadata": {},
   "source": [
    "# Data Science Tools and Ecosystem"
   ]
  },
  {
   "cell_type": "markdown",
   "id": "7dbeaf4b-9678-4d16-bbc4-a1a607318e0f",
   "metadata": {},
   "source": [
    "In this notebook, Data Science Tools and Ecosystem are summarized."
   ]
  },
  {
   "cell_type": "code",
   "execution_count": null,
   "id": "5ba14a8a-b96c-4a60-a47b-22b2e70adb0b",
   "metadata": {},
   "outputs": [],
   "source": [
    "Some of the popular languages that Data Scientists use are:"
   ]
  },
  {
   "cell_type": "markdown",
   "id": "745ea2b2-c285-44fe-bd75-e452f191c156",
   "metadata": {},
   "source": [
    "1.Python\n",
    "2.R\n",
    "3.Julia"
   ]
  },
  {
   "cell_type": "code",
   "execution_count": null,
   "id": "67bc57d1-ab08-4a36-a636-7afd98d1a4bc",
   "metadata": {},
   "outputs": [],
   "source": [
    "Some of the commonly used libraries used by Data Scientists include:"
   ]
  },
  {
   "cell_type": "markdown",
   "id": "33e249a0-892e-4856-84f1-096a5a3e5274",
   "metadata": {},
   "source": [
    "1.NumPy\n",
    "2.Scikit-Learn\n",
    "3.TensorFlow"
   ]
  },
  {
   "cell_type": "markdown",
   "id": "6dd7cd62-cd24-4eba-b777-4ce2cbba7a06",
   "metadata": {},
   "source": [
    "|Data Science Tools|\n",
    "|------------------|\n",
    "|Apache Spark|\n",
    "|TensorFlow|\n",
    "|Rstudio|"
   ]
  },
  {
   "cell_type": "markdown",
   "id": "21d498d3-3cd3-4636-b240-a34e3e52fa97",
   "metadata": {},
   "source": [
    "### Below are a few examples of evaluating arithmetic expressions in Python"
   ]
  },
  {
   "cell_type": "markdown",
   "id": "e74901d0-0c4a-4609-86e7-41cc43a9d8d2",
   "metadata": {},
   "source": [
    " This a simple arithmetic expression to mutiply then add integers"
   ]
  },
  {
   "cell_type": "code",
   "execution_count": 6,
   "id": "19528b19-b056-4e22-a05a-b2b90b1ac872",
   "metadata": {
    "tags": []
   },
   "outputs": [
    {
     "data": {
      "text/plain": [
       "17"
      ]
     },
     "execution_count": 6,
     "metadata": {},
     "output_type": "execute_result"
    }
   ],
   "source": [
    "(3*4)+5"
   ]
  },
  {
   "cell_type": "markdown",
   "id": "ca1e842a-c6c3-4c6d-945e-1dba7ba2b2bc",
   "metadata": {},
   "source": [
    " This will convert 200 minutes to hours by diving by 60"
   ]
  },
  {
   "cell_type": "code",
   "execution_count": 10,
   "id": "a8cff5e5-5872-43a6-8e77-c80b47716743",
   "metadata": {
    "tags": []
   },
   "outputs": [
    {
     "data": {
      "text/plain": [
       "3.3333333333333335"
      ]
     },
     "execution_count": 10,
     "metadata": {},
     "output_type": "execute_result"
    }
   ],
   "source": [
    "minutes = 200\n",
    "hours = minutes / 60\n",
    "hours"
   ]
  },
  {
   "cell_type": "markdown",
   "id": "06e7bd10-a70c-4353-ac69-8eabf6de6a13",
   "metadata": {},
   "source": [
    "**Objectives:**"
   ]
  },
  {
   "cell_type": "code",
   "execution_count": null,
   "id": "eec7fc0f-1c8b-4c92-9422-aaf2f6cc8a3c",
   "metadata": {},
   "outputs": [],
   "source": [
    "* Java\n",
    "* Python\n",
    "* C++\n",
    "* Ruby\n",
    "* R"
   ]
  },
  {
   "cell_type": "markdown",
   "id": "319a084a-24ef-4b3b-a493-028a2a1c2d83",
   "metadata": {
    "tags": []
   },
   "source": [
    "## Author\n",
    "Efe Topcuoglu"
   ]
  }
 ],
 "metadata": {
  "kernelspec": {
   "display_name": "Python",
   "language": "python",
   "name": "conda-env-python-py"
  },
  "language_info": {
   "codemirror_mode": {
    "name": "ipython",
    "version": 3
   },
   "file_extension": ".py",
   "mimetype": "text/x-python",
   "name": "python",
   "nbconvert_exporter": "python",
   "pygments_lexer": "ipython3",
   "version": "3.7.12"
  }
 },
 "nbformat": 4,
 "nbformat_minor": 5
}
